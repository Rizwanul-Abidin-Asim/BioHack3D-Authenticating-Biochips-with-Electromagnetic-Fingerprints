{
  "cells": [
    {
      "cell_type": "markdown",
      "metadata": {
        "id": "view-in-github",
        "colab_type": "text"
      },
      "source": [
        "<a href=\"https://colab.research.google.com/github/Rizwanul-Abidin-Asim/BioHack3D-Authenticating-Biochips-with-Electromagnetic-Fingerprints/blob/main/BioHack3D_Code.ipynb\" target=\"_parent\"><img src=\"https://colab.research.google.com/assets/colab-badge.svg\" alt=\"Open In Colab\"/></a>"
      ]
    },
    {
      "cell_type": "code",
      "source": [
        "import os\n",
        "import glob\n",
        "import cv2\n",
        "import Augmentor\n",
        "import numpy as np\n",
        "from rembg import remove\n",
        "import tensorflow as tf\n",
        "from tensorflow.keras.preprocessing.image import ImageDataGenerator\n",
        "from tensorflow.keras.models import Sequential\n",
        "from tensorflow.keras.layers import Dense, Flatten\n",
        "from tensorflow.keras.optimizers import Adam\n",
        "from sklearn.model_selection import train_test_split\n",
        "from sklearn.metrics import precision_score, recall_score, f1_score, auc, roc_curve\n",
        "from keras.layers import Conv2D, GlobalAveragePooling2D, Flatten, Dense, Dropout\n",
        "from keras.applications.xception import preprocess_input\n",
        "from tensorflow.keras.preprocessing.image import load_img, img_to_array\n",
        "from keras.applications import Xception, InceptionV3, DenseNet121,VGG19,VGG16\n",
        "from keras.regularizers import l1\n",
        "import matplotlib.pyplot as plt\n",
        "from matplotlib import rcParams\n",
        "from skimage.util import random_noise\n",
        "import pickle"
      ],
      "metadata": {
        "id": "Ip-uGYlrE7Q6"
      },
      "execution_count": null,
      "outputs": []
    },
    {
      "cell_type": "code",
      "source": [
        "from google.colab import drive\n",
        "drive.mount('/content/drive')"
      ],
      "metadata": {
        "id": "1T5KYg0hE9xt"
      },
      "execution_count": null,
      "outputs": []
    },
    {
      "cell_type": "code",
      "execution_count": null,
      "metadata": {
        "colab": {
          "base_uri": "https://localhost:8080/"
        },
        "id": "gVU1jhsfOtiL",
        "outputId": "05815b10-a015-44e4-b24c-4598acbc0cdd"
      },
      "outputs": [
        {
          "output_type": "stream",
          "name": "stdout",
          "text": [
            "780\n",
            "402\n"
          ]
        }
      ],
      "source": [
        "# Set the path to your dataset directory\n",
        "dataset_dir1 = r'/content/drive/MyDrive/BioHACK3D 2024_For Participants/Dataset_BioHACK3D_2024/Authentic'\n",
        "dataset_dir2 = r'/content/drive/MyDrive/BioHACK3D 2024_For Participants/Dataset_BioHACK3D_2024/Inauthentic'\n",
        "processed_data_dir = r'/content/drive/MyDrive/Processed'\n",
        "\n",
        "# Set the image dimensions\n",
        "img_width, img_height = 224, 224\n",
        "\n",
        "# Load the image filenames and labels\n",
        "original_files = glob.glob(os.path.join(dataset_dir1, '**','*.jpg'),recursive=True)\n",
        "print(len(original_files))\n",
        "duplicate_files = glob.glob(os.path.join(dataset_dir2, '**','*.jpg'),recursive=True)\n",
        "print(len(duplicate_files))\n",
        "\n",
        "# Preprocessing Functions\n",
        "def preprocess_image(image_path):\n",
        "    with open(image_path, 'rb') as i:\n",
        "        image_data = i.read()\n",
        "\n",
        "    # Load the image from the result of rembg\n",
        "    nparr = np.frombuffer(image_data, np.uint8)\n",
        "    image = cv2.imdecode(nparr, cv2.IMREAD_COLOR)\n",
        "\n",
        "    # Resize to 224x224\n",
        "    image = cv2.resize(image, (224, 224))\n",
        "\n",
        "    # Normalize to [0, 1]\n",
        "    image = image / 255.0\n",
        "\n",
        "    return image\n",
        "\n",
        "# Process and Save Images\n",
        "def process_and_save_images(input_dir, output_dir, label):\n",
        "    if not os.path.exists(output_dir):\n",
        "        os.makedirs(output_dir)\n",
        "    i=0\n",
        "    for file_name in input_dir:\n",
        "        processed_image = preprocess_image(file_name)\n",
        "        save_path = os.path.join(output_dir, label + \"_\" + str(i)+\".jpg\")\n",
        "        cv2.imwrite(save_path, (processed_image * 255).astype(np.uint8))\n",
        "        #print(save_path)\n",
        "        i+=1\n",
        "process_and_save_images(original_files, processed_data_dir + \"/authentic\", \"authentic\")\n",
        "process_and_save_images(duplicate_files, processed_data_dir + \"/non_authentic\", \"non_authentic\")"
      ]
    },
    {
      "cell_type": "code",
      "execution_count": null,
      "metadata": {
        "id": "EbwAJCYEbvxp"
      },
      "outputs": [],
      "source": [
        "processed_data_dir = r'/content/drive/MyDrive/Processed'  # Adjust the path\n",
        "augmented_data_dir = r'/content/drive/MyDrive/Augmented'   # Where you want to save augmented images\n",
        "\n",
        "# Create an output directory for augmented images\n",
        "if not os.path.exists(augmented_data_dir):\n",
        "    os.makedirs(augmented_data_dir)\n",
        "\n",
        "# Create data augmentations for each class\n",
        "for class_name in ['authentic', 'non_authentic']:\n",
        "    # Create a pipeline for the current class\n",
        "    p = Augmentor.Pipeline(os.path.join(processed_data_dir, class_name),\n",
        "                           output_directory=os.path.join(augmented_data_dir, class_name))\n",
        "\n",
        "    # Define augmentation operations----you can write code for different augmentation operations\n",
        "    # Augmentation operations\n",
        "    p.flip_top_bottom(probability=0.5)\n",
        "    p.flip_left_right(probability=0.5)  # Adds a left-right flip\n",
        "    p.rotate(probability=0.7, max_left_rotation=25, max_right_rotation=25)\n",
        "    p.zoom_random(probability=0.5, percentage_area=0.9)  # Slight zoom, retaining 90% of the original area\n",
        "\n",
        "\n",
        "    # Sample augmented images (you can adjust this number as needed)\n",
        "    p.sample(50*100)  # Number of augmented images to create per original image\n",
        "\n",
        "# Data Generators\n",
        "train_datagen = ImageDataGenerator(rescale=1./255, validation_split=0.2)\n",
        "\n",
        "# Make sure to point to the new augmented data directory\n",
        "train_generator = train_datagen.flow_from_directory(\n",
        "    augmented_data_dir,\n",
        "    target_size=(224, 224),\n",
        "    batch_size=32,\n",
        "    class_mode='binary',\n",
        "    subset='training'\n",
        ")\n",
        "\n",
        "validation_generator = train_datagen.flow_from_directory(\n",
        "    augmented_data_dir,\n",
        "    target_size=(224, 224),\n",
        "    batch_size=32,\n",
        "    class_mode='binary',\n",
        "    subset='validation'\n",
        ")"
      ]
    },
    {
      "cell_type": "code",
      "execution_count": null,
      "metadata": {
        "id": "0ZpoJm5ub-ly"
      },
      "outputs": [],
      "source": [
        "images, labels = next(train_generator)\n",
        "print(\"Labels in this batch:\", np.sum(labels==0))\n",
        "plt.figure(figsize=(3, 3 ))\n",
        "plt.imshow(images[1], cmap='gray')"
      ]
    },
    {
      "cell_type": "code",
      "execution_count": null,
      "metadata": {
        "id": "EJKs0ZGMh1uM"
      },
      "outputs": [],
      "source": [
        "#USE THIS CELL\n",
        "from tensorflow.keras.applications import MobileNetV2\n",
        "from tensorflow.keras.layers import GlobalAveragePooling2D, Dense, Dropout\n",
        "from tensorflow.keras.models import Sequential\n",
        "from tensorflow.keras.optimizers import Adam\n",
        "from tensorflow.keras.regularizers import l1\n",
        "\n",
        "# Set up MobileNetV2 base model\n",
        "mobilenet_base = MobileNetV2(weights='imagenet', include_top=False, input_shape=(224, 224, 3))\n",
        "mobilenet_base.trainable = False  # Freeze all layers initially\n",
        "\n",
        "# Define the model architecture\n",
        "model = Sequential([\n",
        "    mobilenet_base,\n",
        "    GlobalAveragePooling2D(),\n",
        "    Dense(128, activation='relu', kernel_regularizer=l1(0.0001)),\n",
        "    Dropout(0.3),\n",
        "    Dense(64, activation='relu', kernel_regularizer=l1(0.0001)),\n",
        "    Dropout(0.3),\n",
        "    Dense(1, activation='sigmoid')\n",
        "])\n",
        "\n",
        "# Compile the model\n",
        "model.compile(optimizer=Adam(learning_rate=0.0001), loss='binary_crossentropy', metrics=['accuracy'])\n",
        "\n",
        "# Train with Data Augmentation\n",
        "train_datagen = ImageDataGenerator(\n",
        "    rescale=1./255,\n",
        "    rotation_range=15,\n",
        "    width_shift_range=0.1,\n",
        "    height_shift_range=0.1,\n",
        "    brightness_range=[0.8, 1.2],\n",
        "    zoom_range=0.1,\n",
        "    validation_split=0.2\n",
        ")\n",
        "\n",
        "train_generator = train_datagen.flow_from_directory(\n",
        "    augmented_data_dir,\n",
        "    target_size=(224, 224),\n",
        "    batch_size=32,\n",
        "    class_mode='binary',\n",
        "    subset='training'\n",
        ")\n",
        "\n",
        "validation_generator = train_datagen.flow_from_directory(\n",
        "    augmented_data_dir,\n",
        "    target_size=(224, 224),\n",
        "    batch_size=32,\n",
        "    class_mode='binary',\n",
        "    subset='validation'\n",
        ")\n",
        "\n",
        "# Train the model with gradual fine-tuning\n",
        "history = model.fit(\n",
        "    train_generator,\n",
        "    validation_data=validation_generator,\n",
        "    epochs= 20 # Start with fewer epochs\n",
        ")\n",
        "\n",
        "# Unfreeze top layers for fine-tuning after initial training\n",
        "for layer in mobilenet_base.layers[-20:]:  # Adjust number of layers based on performance\n",
        "    layer.trainable = True\n",
        "\n",
        "# Recompile with a lower learning rate\n",
        "model.compile(optimizer=Adam(learning_rate=0.00001), loss='binary_crossentropy', metrics=['accuracy'])\n",
        "\n",
        "# Continue training with unfreezing layers\n",
        "history_fine_tune = model.fit(\n",
        "    train_generator,\n",
        "    validation_data=validation_generator,\n",
        "    epochs= 10\n",
        ")\n",
        "with open(\"authenticity_classifier_history.pkl\", \"wb\") as file:\n",
        "    pickle.dump(history.history, file)\n",
        "\n",
        "# Save the model in .keras format\n",
        "model.save('authenticity_classifier.keras')"
      ]
    },
    {
      "cell_type": "code",
      "source": [
        "from sklearn.metrics import precision_score, recall_score, f1_score, confusion_matrix, ConfusionMatrixDisplay\n",
        "import numpy as np\n",
        "import matplotlib.pyplot as plt\n",
        "\n",
        "# Function to evaluate precision, recall, F1 score, and confusion matrix\n",
        "def evaluate_model(model, generator):\n",
        "    # Predict probabilities\n",
        "    predictions = model.predict(generator, verbose=1)\n",
        "    # Convert probabilities to binary predictions\n",
        "    y_pred = (predictions > 0.5).astype(int).flatten()\n",
        "\n",
        "    # True labels from the generator\n",
        "    y_true = generator.classes\n",
        "\n",
        "    # Calculate metrics\n",
        "    precision = precision_score(y_true, y_pred)\n",
        "    recall = recall_score(y_true, y_pred)\n",
        "    f1 = f1_score(y_true, y_pred)\n",
        "    conf_matrix = confusion_matrix(y_true, y_pred)\n",
        "\n",
        "    print(f\"Precision: {precision:.4f}\")\n",
        "    print(f\"Recall: {recall:.4f}\")\n",
        "    print(f\"F1 Score: {f1:.4f}\")\n",
        "\n",
        "    # Plot confusion matrix\n",
        "    disp = ConfusionMatrixDisplay(confusion_matrix=conf_matrix, display_labels=generator.class_indices.keys())\n",
        "    disp.plot(cmap=plt.cm.Blues)\n",
        "    plt.title(\"Confusion Matrix\")\n",
        "    plt.show()\n",
        "\n",
        "# Evaluate model on the validation data\n",
        "evaluate_model(model, validation_generator)\n"
      ],
      "metadata": {
        "id": "fyJZAkeHlLTa"
      },
      "execution_count": null,
      "outputs": []
    }
  ],
  "metadata": {
    "colab": {
      "provenance": [],
      "include_colab_link": true
    },
    "kernelspec": {
      "display_name": "Python 3",
      "name": "python3"
    },
    "language_info": {
      "name": "python"
    }
  },
  "nbformat": 4,
  "nbformat_minor": 0
}